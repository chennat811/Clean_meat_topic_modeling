{
 "cells": [
  {
   "cell_type": "code",
   "execution_count": 1,
   "metadata": {},
   "outputs": [],
   "source": [
    "import pandas as pd\n",
    "from itertools import chain\n",
    "from helper_functions import get_title_link, get_comments\n",
    "import pprint\n",
    "\n",
    "\n"
   ]
  },
  {
   "cell_type": "code",
   "execution_count": 2,
   "metadata": {},
   "outputs": [],
   "source": [
    "pd.set_option('display.max_colwidth', 100)"
   ]
  },
  {
   "cell_type": "markdown",
   "metadata": {},
   "source": [
    "# 1) Scrape reddit for titles of posts\n",
    "In the helper_function.py file, the reddit user information and subreddit was specified in the function. A keyword to search for is required as an argument in the get_title_link function."
   ]
  },
  {
   "cell_type": "code",
   "execution_count": 5,
   "metadata": {},
   "outputs": [],
   "source": [
    "in_vitro_titles_date = get_title_link('in-vitro meat')"
   ]
  },
  {
   "cell_type": "markdown",
   "metadata": {},
   "source": [
    "# 2) Scrape reddit for comments to posts\n",
    "In the helper_function.py file, the above titles and permalinks are used as arguments to get the comments in each post."
   ]
  },
  {
   "cell_type": "code",
   "execution_count": 7,
   "metadata": {},
   "outputs": [],
   "source": [
    "in_vitro_comment_date = get_comments(in_vitro_titles_date)"
   ]
  },
  {
   "cell_type": "markdown",
   "metadata": {},
   "source": [
    "# 3) Change UTC timestamp to datetime format."
   ]
  },
  {
   "cell_type": "code",
   "execution_count": 10,
   "metadata": {},
   "outputs": [],
   "source": [
    "from datetime import datetime\n",
    "in_vitro_comment_date['date_time'] = in_vitro_comment_date['time'].apply(lambda x: datetime.utcfromtimestamp(x))"
   ]
  },
  {
   "cell_type": "code",
   "execution_count": 11,
   "metadata": {},
   "outputs": [
    {
     "data": {
      "text/html": [
       "<div>\n",
       "<style scoped>\n",
       "    .dataframe tbody tr th:only-of-type {\n",
       "        vertical-align: middle;\n",
       "    }\n",
       "\n",
       "    .dataframe tbody tr th {\n",
       "        vertical-align: top;\n",
       "    }\n",
       "\n",
       "    .dataframe thead th {\n",
       "        text-align: right;\n",
       "    }\n",
       "</style>\n",
       "<table border=\"1\" class=\"dataframe\">\n",
       "  <thead>\n",
       "    <tr style=\"text-align: right;\">\n",
       "      <th></th>\n",
       "      <th>index</th>\n",
       "      <th>comment</th>\n",
       "      <th>time</th>\n",
       "      <th>date_time</th>\n",
       "    </tr>\n",
       "  </thead>\n",
       "  <tbody>\n",
       "    <tr>\n",
       "      <th>0</th>\n",
       "      <td>0</td>\n",
       "      <td>I think ants ground up in flour form and then added to various foods would be fine. I can't stan...</td>\n",
       "      <td>1.550414e+09</td>\n",
       "      <td>2019-02-17 14:35:00</td>\n",
       "    </tr>\n",
       "    <tr>\n",
       "      <th>1</th>\n",
       "      <td>0</td>\n",
       "      <td>Good couple this with universal basic income, better education, and some kind of population cont...</td>\n",
       "      <td>1.550411e+09</td>\n",
       "      <td>2019-02-17 13:44:01</td>\n",
       "    </tr>\n",
       "    <tr>\n",
       "      <th>2</th>\n",
       "      <td>0</td>\n",
       "      <td>You dont need population control. Just better consumption control</td>\n",
       "      <td>1.550414e+09</td>\n",
       "      <td>2019-02-17 14:27:29</td>\n",
       "    </tr>\n",
       "    <tr>\n",
       "      <th>3</th>\n",
       "      <td>0</td>\n",
       "      <td>Lol good luck with the population control...</td>\n",
       "      <td>1.550412e+09</td>\n",
       "      <td>2019-02-17 13:58:24</td>\n",
       "    </tr>\n",
       "    <tr>\n",
       "      <th>4</th>\n",
       "      <td>0</td>\n",
       "      <td>But won’t we always just keep reproducing endlessly until the numbers outweigh any resources?</td>\n",
       "      <td>1.550414e+09</td>\n",
       "      <td>2019-02-17 14:36:36</td>\n",
       "    </tr>\n",
       "    <tr>\n",
       "      <th>...</th>\n",
       "      <td>...</td>\n",
       "      <td>...</td>\n",
       "      <td>...</td>\n",
       "      <td>...</td>\n",
       "    </tr>\n",
       "    <tr>\n",
       "      <th>876</th>\n",
       "      <td>38</td>\n",
       "      <td>Additional info clipped due to character limitations: \\n\\n**Droplet-based Bioprinting**\\n\\nIn dr...</td>\n",
       "      <td>1.558441e+09</td>\n",
       "      <td>2019-05-21 12:09:13</td>\n",
       "    </tr>\n",
       "    <tr>\n",
       "      <th>877</th>\n",
       "      <td>38</td>\n",
       "      <td>As usual I'll be answering any questions in the comments later today. Feel free to AMA on this i...</td>\n",
       "      <td>1.558441e+09</td>\n",
       "      <td>2019-05-21 12:19:58</td>\n",
       "    </tr>\n",
       "    <tr>\n",
       "      <th>878</th>\n",
       "      <td>38</td>\n",
       "      <td>**The submitter, /u/goodfoodinstitute has indicated that they would like an in-depth discussion....</td>\n",
       "      <td>1.562764e+09</td>\n",
       "      <td>2019-07-10 13:10:25</td>\n",
       "    </tr>\n",
       "    <tr>\n",
       "      <th>879</th>\n",
       "      <td>38</td>\n",
       "      <td>**The submitter, /u/goodfoodinstitute has indicated that they would like an in-depth discussion....</td>\n",
       "      <td>1.558440e+09</td>\n",
       "      <td>2019-05-21 12:07:18</td>\n",
       "    </tr>\n",
       "    <tr>\n",
       "      <th>880</th>\n",
       "      <td>38</td>\n",
       "      <td>**Other considerations**\\n\\nIn general, deriving cells from stem cells *in vitro* results in a v...</td>\n",
       "      <td>1.558441e+09</td>\n",
       "      <td>2019-05-21 12:11:12</td>\n",
       "    </tr>\n",
       "  </tbody>\n",
       "</table>\n",
       "<p>881 rows × 4 columns</p>\n",
       "</div>"
      ],
      "text/plain": [
       "     index  \\\n",
       "0        0   \n",
       "1        0   \n",
       "2        0   \n",
       "3        0   \n",
       "4        0   \n",
       "..     ...   \n",
       "876     38   \n",
       "877     38   \n",
       "878     38   \n",
       "879     38   \n",
       "880     38   \n",
       "\n",
       "                                                                                                 comment  \\\n",
       "0    I think ants ground up in flour form and then added to various foods would be fine. I can't stan...   \n",
       "1    Good couple this with universal basic income, better education, and some kind of population cont...   \n",
       "2                                      You dont need population control. Just better consumption control   \n",
       "3                                                           Lol good luck with the population control...   \n",
       "4          But won’t we always just keep reproducing endlessly until the numbers outweigh any resources?   \n",
       "..                                                                                                   ...   \n",
       "876  Additional info clipped due to character limitations: \\n\\n**Droplet-based Bioprinting**\\n\\nIn dr...   \n",
       "877  As usual I'll be answering any questions in the comments later today. Feel free to AMA on this i...   \n",
       "878  **The submitter, /u/goodfoodinstitute has indicated that they would like an in-depth discussion....   \n",
       "879  **The submitter, /u/goodfoodinstitute has indicated that they would like an in-depth discussion....   \n",
       "880  **Other considerations**\\n\\nIn general, deriving cells from stem cells *in vitro* results in a v...   \n",
       "\n",
       "             time           date_time  \n",
       "0    1.550414e+09 2019-02-17 14:35:00  \n",
       "1    1.550411e+09 2019-02-17 13:44:01  \n",
       "2    1.550414e+09 2019-02-17 14:27:29  \n",
       "3    1.550412e+09 2019-02-17 13:58:24  \n",
       "4    1.550414e+09 2019-02-17 14:36:36  \n",
       "..            ...                 ...  \n",
       "876  1.558441e+09 2019-05-21 12:09:13  \n",
       "877  1.558441e+09 2019-05-21 12:19:58  \n",
       "878  1.562764e+09 2019-07-10 13:10:25  \n",
       "879  1.558440e+09 2019-05-21 12:07:18  \n",
       "880  1.558441e+09 2019-05-21 12:11:12  \n",
       "\n",
       "[881 rows x 4 columns]"
      ]
     },
     "execution_count": 11,
     "metadata": {},
     "output_type": "execute_result"
    }
   ],
   "source": [
    "in_vitro_comment_date"
   ]
  },
  {
   "cell_type": "markdown",
   "metadata": {},
   "source": [
    "# Repeat above for desired keywords"
   ]
  },
  {
   "cell_type": "code",
   "execution_count": null,
   "metadata": {},
   "outputs": [],
   "source": [
    "clean_comm_date = get_comments(clean_titles)"
   ]
  },
  {
   "cell_type": "code",
   "execution_count": null,
   "metadata": {},
   "outputs": [],
   "source": [
    "lab_grown_com_date = get_comments(lab_grown_titles)"
   ]
  },
  {
   "cell_type": "code",
   "execution_count": null,
   "metadata": {},
   "outputs": [],
   "source": [
    "lab_grown_titles = get_title_link('lab-grown meat')"
   ]
  },
  {
   "cell_type": "code",
   "execution_count": null,
   "metadata": {},
   "outputs": [],
   "source": [
    "lab_grown_comments = get_comments(lab_grown_titles)"
   ]
  },
  {
   "cell_type": "code",
   "execution_count": null,
   "metadata": {},
   "outputs": [],
   "source": [
    "cul_meat_titles = get_title_link('cultured meat')"
   ]
  },
  {
   "cell_type": "code",
   "execution_count": null,
   "metadata": {},
   "outputs": [],
   "source": [
    "cul_meat_comments = get_comments(cul_meat_titles)"
   ]
  },
  {
   "cell_type": "code",
   "execution_count": null,
   "metadata": {},
   "outputs": [],
   "source": [
    "invitro_meat_titles = get_title_link('in vitro meat')"
   ]
  },
  {
   "cell_type": "code",
   "execution_count": null,
   "metadata": {},
   "outputs": [],
   "source": [
    "invitro_meat_comments = get_comments(invitro_meat_titles)"
   ]
  },
  {
   "cell_type": "code",
   "execution_count": null,
   "metadata": {},
   "outputs": [],
   "source": [
    "cul_meat_comments['category'] = 'cultured meat'"
   ]
  },
  {
   "cell_type": "code",
   "execution_count": null,
   "metadata": {},
   "outputs": [],
   "source": [
    "cul_meat_titles['category'] = 'cultured meat'"
   ]
  },
  {
   "cell_type": "code",
   "execution_count": null,
   "metadata": {},
   "outputs": [],
   "source": [
    "invitro_meat_comments.to_csv('invitro_meat_comments.csv')"
   ]
  },
  {
   "cell_type": "code",
   "execution_count": null,
   "metadata": {},
   "outputs": [],
   "source": []
  }
 ],
 "metadata": {
  "kernelspec": {
   "display_name": "Python 3",
   "language": "python",
   "name": "python3"
  },
  "language_info": {
   "codemirror_mode": {
    "name": "ipython",
    "version": 3
   },
   "file_extension": ".py",
   "mimetype": "text/x-python",
   "name": "python",
   "nbconvert_exporter": "python",
   "pygments_lexer": "ipython3",
   "version": "3.8.3"
  }
 },
 "nbformat": 4,
 "nbformat_minor": 4
}
